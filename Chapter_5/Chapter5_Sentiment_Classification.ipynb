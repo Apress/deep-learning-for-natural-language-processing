{
 "cells": [
  {
   "cell_type": "code",
   "execution_count": null,
   "metadata": {},
   "outputs": [],
   "source": []
  },
  {
   "cell_type": "code",
   "execution_count": 1,
   "metadata": {},
   "outputs": [
    {
     "name": "stderr",
     "output_type": "stream",
     "text": [
      "Using TensorFlow backend.\n"
     ]
    }
   ],
   "source": [
    "# Importing TensorFlow and IMDb dataset from keras library\n",
    "from keras.datasets import imdb\n",
    "import tensorflow as tf"
   ]
  },
  {
   "cell_type": "code",
   "execution_count": 2,
   "metadata": {},
   "outputs": [
    {
     "name": "stdout",
     "output_type": "stream",
     "text": [
      "1.3.0\n"
     ]
    }
   ],
   "source": [
    "# Checking TensorFlow version\n",
    "print(tf.__version__)"
   ]
  },
  {
   "cell_type": "code",
   "execution_count": 3,
   "metadata": {},
   "outputs": [],
   "source": [
    "from __future__ import print_function"
   ]
  },
  {
   "cell_type": "code",
   "execution_count": 4,
   "metadata": {},
   "outputs": [],
   "source": [
    "from tensorflow.python.ops import rnn, rnn_cell\n",
    "import numpy as np\n",
    "import pandas as pd\n",
    "import matplotlib.pyplot as plt\n",
    "%matplotlib inline"
   ]
  },
  {
   "cell_type": "code",
   "execution_count": 5,
   "metadata": {},
   "outputs": [],
   "source": [
    "# Creating Train and Test datasets from labeled movie reviews \n",
    "(X_train, y_train), (X_test, y_test) = imdb.load_data(path=\"imdb_full.pkl\",\n",
    "                                                      num_words=None,\n",
    "                                                      skip_top=0,\n",
    "                                                      maxlen=None,\n",
    "                                                      seed=113,\n",
    "                                                      start_char=1,\n",
    "                                                      oov_char=2,\n",
    "                                                      index_from=3)"
   ]
  },
  {
   "cell_type": "code",
   "execution_count": null,
   "metadata": {},
   "outputs": [],
   "source": []
  },
  {
   "cell_type": "code",
   "execution_count": 6,
   "metadata": {},
   "outputs": [],
   "source": [
    "t = [item for sublist in X_train for item in sublist]\n",
    "vocabulary = len(set(t))+1  "
   ]
  },
  {
   "cell_type": "code",
   "execution_count": 7,
   "metadata": {},
   "outputs": [
    {
     "data": {
      "text/plain": [
       "[<matplotlib.lines.Line2D at 0x7fd27561b908>]"
      ]
     },
     "execution_count": 7,
     "metadata": {},
     "output_type": "execute_result"
    },
    {
     "data": {
      "image/png": "[encoded data removed]",
      "text/plain": [
       "<matplotlib.figure.Figure at 0x7fd2bfbbd7f0>"
      ]
     },
     "metadata": {},
     "output_type": "display_data"
    }
   ],
   "source": [
    "a = [len(x) for x in X_train]\n",
    "plt.plot(a)"
   ]
  },
  {
   "cell_type": "code",
   "execution_count": 8,
   "metadata": {},
   "outputs": [],
   "source": [
    "max_length = 200 # specifying the max length of the sequence in the sentence\n",
    "x_filter = []\n",
    "y_filter = []\n",
    "\n",
    "# if the selected length is lesser than the specified max_length, 200, then appending padding (0), else only selecting\n",
    "#       desired length only from sentence\n",
    "for i in range(len(X_train)):\n",
    "    if len(X_train[i])<max_length:\n",
    "        a = len(X_train[i])\n",
    "        X_train[i] = X_train[i] + [0] * (max_length - a)\n",
    "        x_filter.append(X_train[i])\n",
    "        y_filter.append(y_train[i])\n",
    "    elif len(X_train[i])>max_length:\n",
    "        X_train[i] = X_train[i][0:max_length]\n"
   ]
  },
  {
   "cell_type": "code",
   "execution_count": 9,
   "metadata": {},
   "outputs": [],
   "source": [
    "#declaring the hyper params\n",
    "embedding_size = 100   # word vector size for initializing the word embeddings\n",
    "n_hidden = 200\n",
    "learning_rate = 0.06\n",
    "training_iters = 100000\n",
    "batch_size = 32\n",
    "beta =0.0001"
   ]
  },
  {
   "cell_type": "code",
   "execution_count": 10,
   "metadata": {},
   "outputs": [],
   "source": [
    "n_steps = max_length #timestepswords\n",
    "n_classes = 2 # 0/1 : binary classification for negative and positive reviews\n",
    "da = 350    #hyper-parameter : Self-attention MLP has hidden layer with da units\n",
    "r = 30      # count of different parts to be extracted from sentence (= # rows in matrix embedding)\n",
    "display_step =10 \n",
    "hidden_units = 3000"
   ]
  },
  {
   "cell_type": "code",
   "execution_count": 11,
   "metadata": {},
   "outputs": [],
   "source": [
    "y_train = np.asarray(pd.get_dummies(y_filter))\n",
    "X_train = np.asarray([np.asarray(g) for g in x_filter])"
   ]
  },
  {
   "cell_type": "code",
   "execution_count": 12,
   "metadata": {},
   "outputs": [],
   "source": [
    "logs_path = './recent_logs/'"
   ]
  },
  {
   "cell_type": "code",
   "execution_count": 13,
   "metadata": {},
   "outputs": [],
   "source": [
    "class DataIterator:\n",
    "    def __init__(self, data1,data2, batch_size):\n",
    "        self.data1 = data1\n",
    "        self.data2 = data2\n",
    "        self.batch_size = batch_size\n",
    "        self.iter = self.make_random_iter()\n",
    "        \n",
    "    def next_batch(self):\n",
    "        try:\n",
    "            idxs = next(self.iter)\n",
    "        except StopIteration:\n",
    "            self.iter = self.make_random_iter()\n",
    "            idxs = next(self.iter)\n",
    "        X =[self.data1[i] for i in idxs]\n",
    "        Y =[self.data2[i] for i in idxs]\n",
    "        \n",
    "        X = np.array(X)\n",
    "        Y = np.array(Y)\n",
    "        return X, Y\n",
    "\n",
    "    def make_random_iter(self):\n",
    "        splits = np.arange(self.batch_size, len(self.data1), self.batch_size)\n",
    "        it = np.split(np.random.permutation(range(len(self.data1))), splits)[:-1]\n",
    "        return iter(it)\n"
   ]
  },
  {
   "cell_type": "code",
   "execution_count": null,
   "metadata": {},
   "outputs": [],
   "source": []
  },
  {
   "cell_type": "code",
   "execution_count": 14,
   "metadata": {},
   "outputs": [],
   "source": [
    "############ Graph Creation ################      \n",
    "\n",
    "# TF Graph Input\n",
    "with tf.name_scope(\"weights\"):\n",
    "     Win  = tf.Variable(tf.random_uniform([n_hidden*r, hidden_units],-1/np.sqrt(n_hidden),1/np.sqrt(n_hidden)), name='W-input')\n",
    "     Wout = tf.Variable(tf.random_uniform([hidden_units, n_classes],-1/np.sqrt(hidden_units),1/np.sqrt(hidden_units)), name='W-out')\n",
    "     Ws1  = tf.Variable(tf.random_uniform([da,n_hidden],-1/np.sqrt(da),1/np.sqrt(da)), name='Ws1')\n",
    "     Ws2  = tf.Variable(tf.random_uniform([r,da],-1/np.sqrt(r),1/np.sqrt(r)), name='Ws2')"
   ]
  },
  {
   "cell_type": "code",
   "execution_count": 15,
   "metadata": {},
   "outputs": [],
   "source": [
    "with tf.name_scope(\"biases\"):            \n",
    "    biasesout = tf.Variable(tf.random_normal([n_classes]), name='biases-out')\n",
    "    biasesin  = tf.Variable(tf.random_normal([hidden_units]), name='biases-in')"
   ]
  },
  {
   "cell_type": "code",
   "execution_count": null,
   "metadata": {},
   "outputs": [],
   "source": []
  },
  {
   "cell_type": "code",
   "execution_count": 16,
   "metadata": {},
   "outputs": [],
   "source": [
    "with tf.name_scope('input'):\n",
    "    x = tf.placeholder(\"int32\", [32,max_length], name='x-input')\n",
    "    y = tf.placeholder(\"int32\", [32, 2], name='y-input')\n"
   ]
  },
  {
   "cell_type": "code",
   "execution_count": 17,
   "metadata": {},
   "outputs": [],
   "source": [
    "with tf.name_scope('embedding'):\n",
    "    embeddings = tf.Variable(tf.random_uniform([vocabulary, embedding_size],-1, 1), name='embeddings')\n",
    "    embed = tf.nn.embedding_lookup(embeddings,x)\n"
   ]
  },
  {
   "cell_type": "code",
   "execution_count": 18,
   "metadata": {},
   "outputs": [],
   "source": [
    "\n",
    "def length(sequence):\n",
    "    # Computing maximum of elements across dimensions of a tensor\n",
    "    used = tf.sign(tf.reduce_max(tf.abs(sequence), reduction_indices=2))   \n",
    "    \n",
    "    length = tf.reduce_sum(used, reduction_indices=1)\n",
    "    length = tf.cast(length, tf.int32)\n",
    "    return length"
   ]
  },
  {
   "cell_type": "code",
   "execution_count": 19,
   "metadata": {},
   "outputs": [],
   "source": [
    "with tf.variable_scope('forward',reuse=True):\n",
    "        lstm_fw_cell = rnn_cell.BasicLSTMCell(n_hidden)"
   ]
  },
  {
   "cell_type": "code",
   "execution_count": 20,
   "metadata": {},
   "outputs": [],
   "source": [
    "with tf.name_scope('model'):  \n",
    "    outputs, states = rnn.dynamic_rnn(lstm_fw_cell,embed,sequence_length=length(embed),dtype=tf.float32,time_major=False)    \n",
    "    # in the next step we multiply the hidden-vec matrix with the Ws1 by reshaping \n",
    "    h = tf.nn.tanh(tf.transpose(tf.reshape(tf.matmul(Ws1,tf.reshape(outputs,[n_hidden,batch_size*n_steps])), \n",
    "                                           [da,batch_size,n_steps]),[1,0,2]))\n",
    "    # in this step we multiply the generated matrix with Ws2\n",
    "    a = tf.reshape(tf.matmul(Ws2,tf.reshape(h,[da,batch_size*n_steps])),[batch_size,r,n_steps])\n",
    "    def fn3(a,x):\n",
    "            return tf.nn.softmax(x)\n",
    "    h3 = tf.scan(fn3,a) "
   ]
  },
  {
   "cell_type": "code",
   "execution_count": 21,
   "metadata": {},
   "outputs": [],
   "source": [
    "with tf.name_scope('flattening'):\n",
    "    # here we again multiply(batch) of the generated batch with the same hidden matrix\n",
    "    h4 = tf.matmul(h3,outputs)\n",
    "    # flattening the output embedded matrix\n",
    "    last = tf.reshape(h4,[-1,r*n_hidden])\n"
   ]
  },
  {
   "cell_type": "code",
   "execution_count": 22,
   "metadata": {},
   "outputs": [],
   "source": [
    "with tf.name_scope('MLP'):\n",
    "    tf.nn.dropout(last,.5, noise_shape=None, seed=None, name=None)\n",
    "    pred1 = tf.nn.sigmoid(tf.matmul(last,Win)+biasesin)\n",
    "    pred  = tf.matmul(pred1, Wout) + biasesout"
   ]
  },
  {
   "cell_type": "code",
   "execution_count": 23,
   "metadata": {},
   "outputs": [],
   "source": [
    "# Define loss and optimizer\n",
    "with tf.name_scope('cross'):\n",
    "    cost = tf.reduce_mean(tf.nn.softmax_cross_entropy_with_logits(logits =pred, labels = y) + beta*tf.nn.l2_loss(Ws2) )\n"
   ]
  },
  {
   "cell_type": "code",
   "execution_count": 24,
   "metadata": {},
   "outputs": [],
   "source": [
    "with tf.name_scope('train'):\n",
    "    optimizer = tf.train.AdamOptimizer(learning_rate=learning_rate)\n",
    "    gvs = optimizer.compute_gradients(cost)\n",
    "    capped_gvs = [(tf.clip_by_norm(grad,0.5), var) for grad, var in gvs]\n",
    "    optimizer.apply_gradients(capped_gvs)\n",
    "    optimized = optimizer.minimize(cost)"
   ]
  },
  {
   "cell_type": "code",
   "execution_count": 25,
   "metadata": {},
   "outputs": [],
   "source": [
    "# Evaluate model\n",
    "with tf.name_scope('Accuracy'):\n",
    "    correct_pred = tf.equal(tf.argmax(pred,1), tf.argmax(y,1))\n",
    "    accuracy     = tf.reduce_mean(tf.cast(correct_pred, tf.float32))"
   ]
  },
  {
   "cell_type": "code",
   "execution_count": 26,
   "metadata": {},
   "outputs": [
    {
     "data": {
      "text/plain": [
       "<tf.Tensor 'accuracy:0' shape=() dtype=string>"
      ]
     },
     "execution_count": 26,
     "metadata": {},
     "output_type": "execute_result"
    }
   ],
   "source": [
    "tf.summary.scalar(\"cost\", cost)\n",
    "tf.summary.scalar(\"accuracy\", accuracy)"
   ]
  },
  {
   "cell_type": "code",
   "execution_count": 27,
   "metadata": {},
   "outputs": [],
   "source": [
    "# merge all summaries into a single \"summary operation\" which we can execute in a session \n",
    "summary_op =tf.summary.merge_all()"
   ]
  },
  {
   "cell_type": "code",
   "execution_count": 28,
   "metadata": {},
   "outputs": [],
   "source": [
    "# Initializing the variables\n",
    "train_iter = DataIterator(X_train,y_train, batch_size)    \n",
    "init = tf.global_variables_initializer()\n",
    "\n",
    "# This could give warning if in case the required port is being used already\n",
    "# Running the command again or releasing the port before the subsequent run should solve the purpose"
   ]
  },
  {
   "cell_type": "code",
   "execution_count": null,
   "metadata": {},
   "outputs": [],
   "source": []
  },
  {
   "cell_type": "code",
   "execution_count": 29,
   "metadata": {},
   "outputs": [
    {
     "name": "stdout",
     "output_type": "stream",
     "text": [
      "Iter 64, Minibatch Loss= 68.048653, Training Accuracy= 50.00%\n",
      "Iter 384, Minibatch Loss= 69.634018, Training Accuracy= 53.12%\n",
      "Iter 704, Minibatch Loss= 50.814949, Training Accuracy= 46.88%\n",
      "Iter 1024, Minibatch Loss= 39.475891, Training Accuracy= 56.25%\n",
      "Iter 1344, Minibatch Loss= 11.115482, Training Accuracy= 40.62%\n",
      "Iter 1664, Minibatch Loss= 7.060193, Training Accuracy= 59.38%\n",
      "Iter 1984, Minibatch Loss= 2.565218, Training Accuracy= 43.75%\n",
      "Iter 2304, Minibatch Loss= 18.036911, Training Accuracy= 46.88%\n",
      "Iter 2624, Minibatch Loss= 18.796995, Training Accuracy= 43.75%\n",
      "Iter 2944, Minibatch Loss= 56.627518, Training Accuracy= 43.75%\n",
      "Iter 3264, Minibatch Loss= 29.162407, Training Accuracy= 43.75%\n",
      "Iter 3584, Minibatch Loss= 14.335728, Training Accuracy= 40.62%\n",
      "Iter 3904, Minibatch Loss= 1.863467, Training Accuracy= 53.12%\n",
      "Iter 4224, Minibatch Loss= 7.892468, Training Accuracy= 50.00%\n",
      "Iter 4544, Minibatch Loss= 4.554517, Training Accuracy= 53.12%\n",
      "Iter 4864, Minibatch Loss= 19.358366, Training Accuracy= 56.25%\n",
      "Iter 5184, Minibatch Loss= 8.660361, Training Accuracy= 25.00%\n",
      "Iter 5504, Minibatch Loss= 8.641634, Training Accuracy= 43.75%\n",
      "Iter 5824, Minibatch Loss= 4.625659, Training Accuracy= 68.75%\n",
      "Iter 6144, Minibatch Loss= 10.283667, Training Accuracy= 53.12%\n",
      "Iter 6464, Minibatch Loss= 8.946012, Training Accuracy= 65.62%\n",
      "Iter 6784, Minibatch Loss= 10.141964, Training Accuracy= 34.38%\n",
      "Iter 7104, Minibatch Loss= 28.192059, Training Accuracy= 46.88%\n",
      "Iter 7424, Minibatch Loss= 4.486736, Training Accuracy= 56.25%\n",
      "Iter 7744, Minibatch Loss= 21.987207, Training Accuracy= 56.25%\n",
      "Iter 8064, Minibatch Loss= 4.697628, Training Accuracy= 62.50%\n",
      "Iter 8384, Minibatch Loss= 4.270442, Training Accuracy= 59.38%\n",
      "Iter 8704, Minibatch Loss= 28.705460, Training Accuracy= 40.62%\n",
      "Iter 9024, Minibatch Loss= 1.068065, Training Accuracy= 62.50%\n",
      "Iter 9344, Minibatch Loss= 17.426367, Training Accuracy= 40.62%\n",
      "Iter 9664, Minibatch Loss= 3.467830, Training Accuracy= 43.75%\n",
      "Iter 9984, Minibatch Loss= 15.951517, Training Accuracy= 53.12%\n",
      "Iter 10304, Minibatch Loss= 27.768030, Training Accuracy= 56.25%\n",
      "Iter 10624, Minibatch Loss= 23.670208, Training Accuracy= 56.25%\n",
      "Iter 10944, Minibatch Loss= 16.554707, Training Accuracy= 34.38%\n",
      "Iter 11264, Minibatch Loss= 1.862891, Training Accuracy= 53.12%\n",
      "Iter 11584, Minibatch Loss= 14.394958, Training Accuracy= 46.88%\n",
      "Iter 11904, Minibatch Loss= 14.636830, Training Accuracy= 59.38%\n",
      "Iter 12224, Minibatch Loss= 22.526840, Training Accuracy= 50.00%\n",
      "Iter 12544, Minibatch Loss= 11.277531, Training Accuracy= 46.88%\n",
      "Iter 12864, Minibatch Loss= 8.312257, Training Accuracy= 59.38%\n",
      "Iter 13184, Minibatch Loss= 2.571780, Training Accuracy= 43.75%\n",
      "Iter 13504, Minibatch Loss= 7.972239, Training Accuracy= 62.50%\n",
      "Iter 13824, Minibatch Loss= 4.762474, Training Accuracy= 50.00%\n",
      "Iter 14144, Minibatch Loss= 8.425671, Training Accuracy= 62.50%\n",
      "Iter 14464, Minibatch Loss= 11.759327, Training Accuracy= 53.12%\n",
      "Iter 14784, Minibatch Loss= 7.914523, Training Accuracy= 50.00%\n",
      "Iter 15104, Minibatch Loss= 10.796078, Training Accuracy= 53.12%\n",
      "Iter 15424, Minibatch Loss= 7.343972, Training Accuracy= 46.88%\n",
      "Iter 15744, Minibatch Loss= 2.848967, Training Accuracy= 62.50%\n",
      "Iter 16064, Minibatch Loss= 13.384836, Training Accuracy= 53.12%\n",
      "Iter 16384, Minibatch Loss= 0.764324, Training Accuracy= 62.50%\n",
      "Iter 16704, Minibatch Loss= 3.935778, Training Accuracy= 59.38%\n",
      "Iter 17024, Minibatch Loss= 7.596835, Training Accuracy= 50.00%\n",
      "Iter 17344, Minibatch Loss= 6.328508, Training Accuracy= 68.75%\n",
      "Iter 17664, Minibatch Loss= 17.243980, Training Accuracy= 50.00%\n",
      "Iter 17984, Minibatch Loss= 3.188797, Training Accuracy= 62.50%\n",
      "Iter 18304, Minibatch Loss= 4.553954, Training Accuracy= 53.12%\n",
      "Iter 18624, Minibatch Loss= 6.739563, Training Accuracy= 53.12%\n",
      "Iter 18944, Minibatch Loss= 13.548286, Training Accuracy= 53.12%\n",
      "Iter 19264, Minibatch Loss= 9.630369, Training Accuracy= 59.38%\n",
      "Iter 19584, Minibatch Loss= 14.731222, Training Accuracy= 50.00%\n",
      "Iter 19904, Minibatch Loss= 13.236647, Training Accuracy= 31.25%\n",
      "Iter 20224, Minibatch Loss= 12.380626, Training Accuracy= 53.12%\n",
      "Iter 20544, Minibatch Loss= 6.639822, Training Accuracy= 56.25%\n",
      "Iter 20864, Minibatch Loss= 13.415706, Training Accuracy= 37.50%\n",
      "Iter 21184, Minibatch Loss= 4.680547, Training Accuracy= 62.50%\n",
      "Iter 21504, Minibatch Loss= 14.221049, Training Accuracy= 56.25%\n",
      "Iter 21824, Minibatch Loss= 16.064651, Training Accuracy= 43.75%\n",
      "Iter 22144, Minibatch Loss= 4.457575, Training Accuracy= 40.62%\n",
      "Iter 22464, Minibatch Loss= 2.053376, Training Accuracy= 59.38%\n",
      "Iter 22784, Minibatch Loss= 20.164852, Training Accuracy= 34.38%\n",
      "Iter 23104, Minibatch Loss= 8.480515, Training Accuracy= 53.12%\n",
      "Iter 23424, Minibatch Loss= 7.034980, Training Accuracy= 53.12%\n",
      "Iter 23744, Minibatch Loss= 4.895866, Training Accuracy= 43.75%\n",
      "Iter 24064, Minibatch Loss= 15.955807, Training Accuracy= 43.75%\n",
      "Iter 24384, Minibatch Loss= 3.094639, Training Accuracy= 46.88%\n",
      "Iter 24704, Minibatch Loss= 1.274401, Training Accuracy= 43.75%\n",
      "Iter 25024, Minibatch Loss= 0.661598, Training Accuracy= 59.38%\n",
      "Iter 25344, Minibatch Loss= 37.563221, Training Accuracy= 43.75%\n",
      "Iter 25664, Minibatch Loss= 2.874022, Training Accuracy= 50.00%\n",
      "Iter 25984, Minibatch Loss= 11.354934, Training Accuracy= 46.88%\n",
      "Iter 26304, Minibatch Loss= 8.918873, Training Accuracy= 34.38%\n",
      "Iter 26624, Minibatch Loss= 6.128410, Training Accuracy= 59.38%\n",
      "Iter 26944, Minibatch Loss= 5.735064, Training Accuracy= 53.12%\n",
      "Iter 27264, Minibatch Loss= 9.497025, Training Accuracy= 43.75%\n",
      "Iter 27584, Minibatch Loss= 4.762102, Training Accuracy= 50.00%\n",
      "Iter 27904, Minibatch Loss= 2.539943, Training Accuracy= 50.00%\n",
      "Iter 28224, Minibatch Loss= 22.644489, Training Accuracy= 53.12%\n",
      "Iter 28544, Minibatch Loss= 3.768353, Training Accuracy= 37.50%\n",
      "Iter 28864, Minibatch Loss= 1.592333, Training Accuracy= 56.25%\n",
      "Iter 29184, Minibatch Loss= 0.833674, Training Accuracy= 50.00%\n",
      "Iter 29504, Minibatch Loss= 8.278477, Training Accuracy= 56.25%\n",
      "Iter 29824, Minibatch Loss= 8.094858, Training Accuracy= 40.62%\n",
      "Iter 30144, Minibatch Loss= 13.986859, Training Accuracy= 53.12%\n",
      "Iter 30464, Minibatch Loss= 14.349034, Training Accuracy= 40.62%\n",
      "Iter 30784, Minibatch Loss= 3.889781, Training Accuracy= 56.25%\n",
      "Iter 31104, Minibatch Loss= 21.634075, Training Accuracy= 53.12%\n",
      "Iter 31424, Minibatch Loss= 4.705059, Training Accuracy= 56.25%\n",
      "Iter 31744, Minibatch Loss= 9.733704, Training Accuracy= 43.75%\n",
      "Iter 32064, Minibatch Loss= 4.969881, Training Accuracy= 53.12%\n",
      "Iter 32384, Minibatch Loss= 2.800320, Training Accuracy= 46.88%\n",
      "Iter 32704, Minibatch Loss= 5.603562, Training Accuracy= 46.88%\n",
      "Iter 33024, Minibatch Loss= 2.687968, Training Accuracy= 50.00%\n",
      "Iter 33344, Minibatch Loss= 18.012241, Training Accuracy= 40.62%\n",
      "Iter 33664, Minibatch Loss= 10.452724, Training Accuracy= 65.62%\n",
      "Iter 33984, Minibatch Loss= 13.324929, Training Accuracy= 46.88%\n",
      "Iter 34304, Minibatch Loss= 19.693317, Training Accuracy= 46.88%\n",
      "Iter 34624, Minibatch Loss= 4.306432, Training Accuracy= 53.12%\n",
      "Iter 34944, Minibatch Loss= 7.429633, Training Accuracy= 53.12%\n",
      "Iter 35264, Minibatch Loss= 3.740365, Training Accuracy= 37.50%\n",
      "Iter 35584, Minibatch Loss= 15.840183, Training Accuracy= 43.75%\n",
      "Iter 35904, Minibatch Loss= 15.707689, Training Accuracy= 59.38%\n",
      "Iter 36224, Minibatch Loss= 10.785508, Training Accuracy= 40.62%\n",
      "Iter 36544, Minibatch Loss= 7.691505, Training Accuracy= 34.38%\n",
      "Iter 36864, Minibatch Loss= 27.035702, Training Accuracy= 34.38%\n",
      "Iter 37184, Minibatch Loss= 4.179764, Training Accuracy= 56.25%\n",
      "Iter 37504, Minibatch Loss= 0.824007, Training Accuracy= 40.62%\n",
      "Iter 37824, Minibatch Loss= 6.629670, Training Accuracy= 56.25%\n",
      "Iter 38144, Minibatch Loss= 12.860003, Training Accuracy= 43.75%\n",
      "Iter 38464, Minibatch Loss= 6.448372, Training Accuracy= 40.62%\n",
      "Iter 38784, Minibatch Loss= 9.507837, Training Accuracy= 59.38%\n",
      "Iter 39104, Minibatch Loss= 12.370415, Training Accuracy= 59.38%\n",
      "Iter 39424, Minibatch Loss= 16.644466, Training Accuracy= 40.62%\n",
      "Iter 39744, Minibatch Loss= 10.079248, Training Accuracy= 46.88%\n",
      "Iter 40064, Minibatch Loss= 1.594822, Training Accuracy= 46.88%\n",
      "Iter 40384, Minibatch Loss= 9.232342, Training Accuracy= 43.75%\n",
      "Iter 40704, Minibatch Loss= 5.345547, Training Accuracy= 50.00%\n"
     ]
    },
    {
     "name": "stdout",
     "output_type": "stream",
     "text": [
      "Iter 41024, Minibatch Loss= 21.031528, Training Accuracy= 43.75%\n",
      "Iter 41344, Minibatch Loss= 23.064739, Training Accuracy= 46.88%\n",
      "Iter 41664, Minibatch Loss= 15.065256, Training Accuracy= 40.62%\n",
      "Iter 41984, Minibatch Loss= 17.597385, Training Accuracy= 56.25%\n",
      "Iter 42304, Minibatch Loss= 2.784813, Training Accuracy= 53.12%\n",
      "Iter 42624, Minibatch Loss= 1.562894, Training Accuracy= 40.62%\n",
      "Iter 42944, Minibatch Loss= 12.699908, Training Accuracy= 46.88%\n",
      "Iter 43264, Minibatch Loss= 4.876400, Training Accuracy= 40.62%\n",
      "Iter 43584, Minibatch Loss= 4.536665, Training Accuracy= 53.12%\n",
      "Iter 43904, Minibatch Loss= 2.228184, Training Accuracy= 59.38%\n",
      "Iter 44224, Minibatch Loss= 5.214026, Training Accuracy= 59.38%\n",
      "Iter 44544, Minibatch Loss= 4.667718, Training Accuracy= 40.62%\n",
      "Iter 44864, Minibatch Loss= 2.383085, Training Accuracy= 53.12%\n",
      "Iter 45184, Minibatch Loss= 6.075849, Training Accuracy= 50.00%\n",
      "Iter 45504, Minibatch Loss= 1.285813, Training Accuracy= 56.25%\n",
      "Iter 45824, Minibatch Loss= 4.313162, Training Accuracy= 43.75%\n",
      "Iter 46144, Minibatch Loss= 4.176050, Training Accuracy= 59.38%\n",
      "Iter 46464, Minibatch Loss= 16.904991, Training Accuracy= 62.50%\n",
      "Iter 46784, Minibatch Loss= 1.465783, Training Accuracy= 62.50%\n",
      "Iter 47104, Minibatch Loss= 15.791449, Training Accuracy= 50.00%\n",
      "Iter 47424, Minibatch Loss= 20.306522, Training Accuracy= 59.38%\n",
      "Iter 47744, Minibatch Loss= 25.076126, Training Accuracy= 50.00%\n",
      "Iter 48064, Minibatch Loss= 13.938768, Training Accuracy= 65.62%\n",
      "Iter 48384, Minibatch Loss= 7.911925, Training Accuracy= 50.00%\n",
      "Iter 48704, Minibatch Loss= 4.146496, Training Accuracy= 56.25%\n",
      "Iter 49024, Minibatch Loss= 8.021297, Training Accuracy= 53.12%\n",
      "Iter 49344, Minibatch Loss= 2.008795, Training Accuracy= 53.12%\n",
      "Iter 49664, Minibatch Loss= 3.912958, Training Accuracy= 53.12%\n",
      "Iter 49984, Minibatch Loss= 11.316398, Training Accuracy= 53.12%\n",
      "Iter 50304, Minibatch Loss= 2.039451, Training Accuracy= 46.88%\n",
      "Iter 50624, Minibatch Loss= 16.229889, Training Accuracy= 46.88%\n",
      "Iter 50944, Minibatch Loss= 8.432322, Training Accuracy= 43.75%\n",
      "Iter 51264, Minibatch Loss= 2.534712, Training Accuracy= 56.25%\n",
      "Iter 51584, Minibatch Loss= 31.529041, Training Accuracy= 40.62%\n",
      "Iter 51904, Minibatch Loss= 11.681208, Training Accuracy= 43.75%\n",
      "Iter 52224, Minibatch Loss= 23.440483, Training Accuracy= 40.62%\n",
      "Iter 52544, Minibatch Loss= 0.666839, Training Accuracy= 62.50%\n",
      "Iter 52864, Minibatch Loss= 21.388758, Training Accuracy= 40.62%\n",
      "Iter 53184, Minibatch Loss= 12.126427, Training Accuracy= 46.88%\n",
      "Iter 53504, Minibatch Loss= 12.451681, Training Accuracy= 50.00%\n",
      "Iter 53824, Minibatch Loss= 3.985178, Training Accuracy= 43.75%\n",
      "Iter 54144, Minibatch Loss= 9.805837, Training Accuracy= 40.62%\n",
      "Iter 54464, Minibatch Loss= 14.656006, Training Accuracy= 46.88%\n",
      "Iter 54784, Minibatch Loss= 5.890873, Training Accuracy= 43.75%\n",
      "Iter 55104, Minibatch Loss= 0.772709, Training Accuracy= 46.88%\n",
      "Iter 55424, Minibatch Loss= 3.218151, Training Accuracy= 50.00%\n",
      "Iter 55744, Minibatch Loss= 17.635784, Training Accuracy= 40.62%\n",
      "Iter 56064, Minibatch Loss= 8.105782, Training Accuracy= 62.50%\n",
      "Iter 56384, Minibatch Loss= 6.164281, Training Accuracy= 59.38%\n",
      "Iter 56704, Minibatch Loss= 3.506629, Training Accuracy= 59.38%\n",
      "Iter 57024, Minibatch Loss= 6.995962, Training Accuracy= 68.75%\n",
      "Iter 57344, Minibatch Loss= 8.790695, Training Accuracy= 43.75%\n",
      "Iter 57664, Minibatch Loss= 4.156086, Training Accuracy= 53.12%\n",
      "Iter 57984, Minibatch Loss= 9.201471, Training Accuracy= 62.50%\n",
      "Iter 58304, Minibatch Loss= 10.226985, Training Accuracy= 53.12%\n",
      "Iter 58624, Minibatch Loss= 2.116041, Training Accuracy= 37.50%\n",
      "Iter 58944, Minibatch Loss= 6.928905, Training Accuracy= 34.38%\n",
      "Iter 59264, Minibatch Loss= 9.766208, Training Accuracy= 46.88%\n",
      "Iter 59584, Minibatch Loss= 20.821720, Training Accuracy= 65.62%\n",
      "Iter 59904, Minibatch Loss= 24.298084, Training Accuracy= 53.12%\n",
      "Iter 60224, Minibatch Loss= 7.316458, Training Accuracy= 43.75%\n",
      "Iter 60544, Minibatch Loss= 6.037505, Training Accuracy= 53.12%\n",
      "Iter 60864, Minibatch Loss= 0.721190, Training Accuracy= 50.00%\n",
      "Iter 61184, Minibatch Loss= 2.178830, Training Accuracy= 50.00%\n",
      "Iter 61504, Minibatch Loss= 7.628143, Training Accuracy= 65.62%\n",
      "Iter 61824, Minibatch Loss= 3.177518, Training Accuracy= 59.38%\n",
      "Iter 62144, Minibatch Loss= 10.251677, Training Accuracy= 53.12%\n",
      "Iter 62464, Minibatch Loss= 8.555613, Training Accuracy= 59.38%\n",
      "Iter 62784, Minibatch Loss= 5.271868, Training Accuracy= 40.62%\n",
      "Iter 63104, Minibatch Loss= 19.958477, Training Accuracy= 43.75%\n",
      "Iter 63424, Minibatch Loss= 15.127458, Training Accuracy= 50.00%\n",
      "Iter 63744, Minibatch Loss= 1.812528, Training Accuracy= 50.00%\n",
      "Iter 64064, Minibatch Loss= 12.482746, Training Accuracy= 53.12%\n",
      "Iter 64384, Minibatch Loss= 26.122999, Training Accuracy= 50.00%\n",
      "Iter 64704, Minibatch Loss= 30.161316, Training Accuracy= 43.75%\n",
      "Iter 65024, Minibatch Loss= 4.300615, Training Accuracy= 65.62%\n",
      "Iter 65344, Minibatch Loss= 0.784370, Training Accuracy= 71.88%\n",
      "Iter 65664, Minibatch Loss= 9.419561, Training Accuracy= 62.50%\n",
      "Iter 65984, Minibatch Loss= 23.746841, Training Accuracy= 43.75%\n",
      "Iter 66304, Minibatch Loss= 21.083220, Training Accuracy= 43.75%\n",
      "Iter 66624, Minibatch Loss= 16.359665, Training Accuracy= 62.50%\n",
      "Iter 66944, Minibatch Loss= 8.083037, Training Accuracy= 53.12%\n",
      "Iter 67264, Minibatch Loss= 5.965985, Training Accuracy= 53.12%\n",
      "Iter 67584, Minibatch Loss= 2.470879, Training Accuracy= 46.88%\n",
      "Iter 67904, Minibatch Loss= 9.042778, Training Accuracy= 56.25%\n",
      "Iter 68224, Minibatch Loss= 1.788287, Training Accuracy= 46.88%\n",
      "Iter 68544, Minibatch Loss= 14.053770, Training Accuracy= 50.00%\n",
      "Iter 68864, Minibatch Loss= 12.774237, Training Accuracy= 62.50%\n",
      "Iter 69184, Minibatch Loss= 2.655466, Training Accuracy= 50.00%\n",
      "Iter 69504, Minibatch Loss= 1.799385, Training Accuracy= 46.88%\n",
      "Iter 69824, Minibatch Loss= 16.016491, Training Accuracy= 43.75%\n",
      "Iter 70144, Minibatch Loss= 10.564743, Training Accuracy= 59.38%\n",
      "Iter 70464, Minibatch Loss= 15.462074, Training Accuracy= 56.25%\n",
      "Iter 70784, Minibatch Loss= 17.902014, Training Accuracy= 34.38%\n",
      "Iter 71104, Minibatch Loss= 15.256748, Training Accuracy= 40.62%\n",
      "Iter 71424, Minibatch Loss= 1.235040, Training Accuracy= 50.00%\n",
      "Iter 71744, Minibatch Loss= 1.084303, Training Accuracy= 56.25%\n",
      "Iter 72064, Minibatch Loss= 2.071187, Training Accuracy= 46.88%\n",
      "Iter 72384, Minibatch Loss= 14.241503, Training Accuracy= 43.75%\n",
      "Iter 72704, Minibatch Loss= 0.710391, Training Accuracy= 56.25%\n",
      "Iter 73024, Minibatch Loss= 6.935651, Training Accuracy= 40.62%\n",
      "Iter 73344, Minibatch Loss= 1.152113, Training Accuracy= 40.62%\n",
      "Iter 73664, Minibatch Loss= 3.757454, Training Accuracy= 40.62%\n",
      "Iter 73984, Minibatch Loss= 3.017574, Training Accuracy= 59.38%\n",
      "Iter 74304, Minibatch Loss= 2.525484, Training Accuracy= 50.00%\n",
      "Iter 74624, Minibatch Loss= 14.177895, Training Accuracy= 56.25%\n",
      "Iter 74944, Minibatch Loss= 23.525188, Training Accuracy= 56.25%\n",
      "Iter 75264, Minibatch Loss= 11.270742, Training Accuracy= 56.25%\n",
      "Iter 75584, Minibatch Loss= 23.212002, Training Accuracy= 46.88%\n",
      "Iter 75904, Minibatch Loss= 19.986408, Training Accuracy= 46.88%\n",
      "Iter 76224, Minibatch Loss= 5.351293, Training Accuracy= 56.25%\n",
      "Iter 76544, Minibatch Loss= 3.647470, Training Accuracy= 59.38%\n",
      "Iter 76864, Minibatch Loss= 4.175218, Training Accuracy= 53.12%\n",
      "Iter 77184, Minibatch Loss= 4.536756, Training Accuracy= 59.38%\n",
      "Iter 77504, Minibatch Loss= 2.010255, Training Accuracy= 56.25%\n",
      "Iter 77824, Minibatch Loss= 2.634599, Training Accuracy= 62.50%\n",
      "Iter 78144, Minibatch Loss= 8.022557, Training Accuracy= 53.12%\n",
      "Iter 78464, Minibatch Loss= 8.778473, Training Accuracy= 34.38%\n",
      "Iter 78784, Minibatch Loss= 3.060512, Training Accuracy= 59.38%\n",
      "Iter 79104, Minibatch Loss= 1.343833, Training Accuracy= 53.12%\n",
      "Iter 79424, Minibatch Loss= 14.035875, Training Accuracy= 53.12%\n",
      "Iter 79744, Minibatch Loss= 1.705568, Training Accuracy= 46.88%\n",
      "Iter 80064, Minibatch Loss= 6.593272, Training Accuracy= 53.12%\n",
      "Iter 80384, Minibatch Loss= 15.696155, Training Accuracy= 59.38%\n",
      "Iter 80704, Minibatch Loss= 22.825464, Training Accuracy= 59.38%\n",
      "Iter 81024, Minibatch Loss= 20.275944, Training Accuracy= 46.88%\n",
      "Iter 81344, Minibatch Loss= 12.754831, Training Accuracy= 56.25%\n",
      "Iter 81664, Minibatch Loss= 7.261662, Training Accuracy= 40.62%\n"
     ]
    },
    {
     "name": "stdout",
     "output_type": "stream",
     "text": [
      "Iter 81984, Minibatch Loss= 7.793962, Training Accuracy= 50.00%\n",
      "Iter 82304, Minibatch Loss= 0.721587, Training Accuracy= 50.00%\n",
      "Iter 82624, Minibatch Loss= 16.602007, Training Accuracy= 50.00%\n",
      "Iter 82944, Minibatch Loss= 33.046600, Training Accuracy= 46.88%\n",
      "Iter 83264, Minibatch Loss= 11.703110, Training Accuracy= 65.62%\n",
      "Iter 83584, Minibatch Loss= 9.445695, Training Accuracy= 34.38%\n",
      "Iter 83904, Minibatch Loss= 15.244149, Training Accuracy= 59.38%\n",
      "Iter 84224, Minibatch Loss= 3.159154, Training Accuracy= 50.00%\n",
      "Iter 84544, Minibatch Loss= 28.657928, Training Accuracy= 50.00%\n",
      "Iter 84864, Minibatch Loss= 8.399003, Training Accuracy= 53.12%\n",
      "Iter 85184, Minibatch Loss= 14.731194, Training Accuracy= 46.88%\n",
      "Iter 85504, Minibatch Loss= 5.818152, Training Accuracy= 62.50%\n",
      "Iter 85824, Minibatch Loss= 19.275805, Training Accuracy= 50.00%\n",
      "Iter 86144, Minibatch Loss= 10.736831, Training Accuracy= 53.12%\n",
      "Iter 86464, Minibatch Loss= 9.993341, Training Accuracy= 50.00%\n",
      "Iter 86784, Minibatch Loss= 4.928855, Training Accuracy= 43.75%\n",
      "Iter 87104, Minibatch Loss= 1.523685, Training Accuracy= 53.12%\n",
      "Iter 87424, Minibatch Loss= 7.992968, Training Accuracy= 40.62%\n",
      "Iter 87744, Minibatch Loss= 13.455222, Training Accuracy= 37.50%\n",
      "Iter 88064, Minibatch Loss= 6.928088, Training Accuracy= 62.50%\n",
      "Iter 88384, Minibatch Loss= 5.722057, Training Accuracy= 59.38%\n",
      "Iter 88704, Minibatch Loss= 19.526503, Training Accuracy= 46.88%\n",
      "Iter 89024, Minibatch Loss= 12.010965, Training Accuracy= 31.25%\n",
      "Iter 89344, Minibatch Loss= 12.129732, Training Accuracy= 40.62%\n",
      "Iter 89664, Minibatch Loss= 1.129440, Training Accuracy= 40.62%\n",
      "Iter 89984, Minibatch Loss= 1.790181, Training Accuracy= 37.50%\n",
      "Iter 90304, Minibatch Loss= 2.876821, Training Accuracy= 40.62%\n",
      "Iter 90624, Minibatch Loss= 18.299339, Training Accuracy= 56.25%\n",
      "Iter 90944, Minibatch Loss= 7.193353, Training Accuracy= 53.12%\n",
      "Iter 91264, Minibatch Loss= 15.776569, Training Accuracy= 37.50%\n",
      "Iter 91584, Minibatch Loss= 14.444285, Training Accuracy= 43.75%\n",
      "Iter 91904, Minibatch Loss= 43.865486, Training Accuracy= 43.75%\n",
      "Iter 92224, Minibatch Loss= 15.423979, Training Accuracy= 50.00%\n",
      "Iter 92544, Minibatch Loss= 11.372643, Training Accuracy= 25.00%\n",
      "Iter 92864, Minibatch Loss= 1.179256, Training Accuracy= 50.00%\n",
      "Iter 93184, Minibatch Loss= 14.395565, Training Accuracy= 43.75%\n",
      "Iter 93504, Minibatch Loss= 1.220622, Training Accuracy= 56.25%\n",
      "Iter 93824, Minibatch Loss= 5.193919, Training Accuracy= 56.25%\n",
      "Iter 94144, Minibatch Loss= 5.515789, Training Accuracy= 53.12%\n",
      "Iter 94464, Minibatch Loss= 0.745686, Training Accuracy= 50.00%\n",
      "Iter 94784, Minibatch Loss= 4.399930, Training Accuracy= 40.62%\n",
      "Iter 95104, Minibatch Loss= 12.189066, Training Accuracy= 59.38%\n",
      "Iter 95424, Minibatch Loss= 13.075596, Training Accuracy= 56.25%\n",
      "Iter 95744, Minibatch Loss= 28.283163, Training Accuracy= 59.38%\n",
      "Iter 96064, Minibatch Loss= 1.305542, Training Accuracy= 50.00%\n",
      "Iter 96384, Minibatch Loss= 1.801988, Training Accuracy= 50.00%\n",
      "Iter 96704, Minibatch Loss= 1.896597, Training Accuracy= 53.12%\n",
      "Iter 97024, Minibatch Loss= 2.941552, Training Accuracy= 46.88%\n",
      "Iter 97344, Minibatch Loss= 0.693964, Training Accuracy= 56.25%\n",
      "Iter 97664, Minibatch Loss= 8.340314, Training Accuracy= 40.62%\n",
      "Iter 97984, Minibatch Loss= 2.635653, Training Accuracy= 56.25%\n",
      "Iter 98304, Minibatch Loss= 1.541869, Training Accuracy= 68.75%\n",
      "Iter 98624, Minibatch Loss= 1.544908, Training Accuracy= 62.50%\n",
      "Iter 98944, Minibatch Loss= 26.138868, Training Accuracy= 56.25%\n",
      "Iter 99264, Minibatch Loss= 17.603979, Training Accuracy= 56.25%\n",
      "Iter 99584, Minibatch Loss= 21.715031, Training Accuracy= 40.62%\n",
      "Iter 99904, Minibatch Loss= 17.485657, Training Accuracy= 53.12%\n",
      "Optimization Finished!\n"
     ]
    }
   ],
   "source": [
    "with tf.Session() as sess:\n",
    "    sess.run(init)\n",
    "    # Creating log file writer object\n",
    "    writer = tf.summary.FileWriter(logs_path, graph=tf.get_default_graph())\n",
    "    step = 1\n",
    "    \n",
    "    # Keep training until reach max iterations\n",
    "    while step * batch_size < training_iters:\n",
    "        batch_x, batch_y = train_iter.next_batch()\n",
    "        sess.run(optimized, feed_dict={x: batch_x, y: batch_y})\n",
    "        # Executing the summary operation in the session\n",
    "        summary = sess.run(summary_op, feed_dict={x: batch_x, y: batch_y})\n",
    "        # Writing the values in log file using the FileWriter object created above\n",
    "        writer.add_summary(summary,  step*batch_size)\n",
    "        if step % display_step == 2:\n",
    "            # Calculate batch accuracy\n",
    "            acc = sess.run(accuracy, feed_dict={x: batch_x, y: batch_y})\n",
    "            # Calculate batch loss\n",
    "            loss = sess.run(cost, feed_dict={x: batch_x, y: batch_y})\n",
    "            print (\"Iter \" + str(step*batch_size) + \\\n",
    "                   \", Minibatch Loss= \" + \"{:.6f}\".format(loss) + \\\n",
    "                   \", Training Accuracy= \" + \"{:.2f}\".format(acc*100) + \"%\")\n",
    "        step += 1\n",
    "    print (\"Optimization Finished!\")"
   ]
  },
  {
   "cell_type": "code",
   "execution_count": null,
   "metadata": {},
   "outputs": [],
   "source": []
  },
  {
   "cell_type": "code",
   "execution_count": null,
   "metadata": {},
   "outputs": [],
   "source": []
  },
  {
   "cell_type": "code",
   "execution_count": null,
   "metadata": {},
   "outputs": [],
   "source": []
  },
  {
   "cell_type": "code",
   "execution_count": null,
   "metadata": {},
   "outputs": [],
   "source": []
  }
 ],
 "metadata": {
  "kernelspec": {
   "display_name": "Python 3",
   "language": "python",
   "name": "python3"
  },
  "language_info": {
   "codemirror_mode": {
    "name": "ipython",
    "version": 3
   },
   "file_extension": ".py",
   "mimetype": "text/x-python",
   "name": "python",
   "nbconvert_exporter": "python",
   "pygments_lexer": "ipython3",
   "version": "3.6.3"
  }
 },
 "nbformat": 4,
 "nbformat_minor": 2
}
